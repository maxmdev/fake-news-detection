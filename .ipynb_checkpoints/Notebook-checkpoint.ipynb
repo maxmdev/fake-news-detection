{
 "cells": [
  {
   "cell_type": "code",
   "execution_count": 3572,
   "metadata": {
    "scrolled": true
   },
   "outputs": [
    {
     "name": "stderr",
     "output_type": "stream",
     "text": [
      "[nltk_data] Downloading package punkt to /Users/user/nltk_data...\n",
      "[nltk_data]   Package punkt is already up-to-date!\n"
     ]
    }
   ],
   "source": [
    "from __future__ import division, print_function\n",
    "\n",
    "import os\n",
    "from gensim import utils\n",
    "seed_value = 0\n",
    "os.environ['PYTHONHASHSEED'] = str(seed_value)\n",
    "os.environ['CUDA_VISIBLE_DEVICES']='-1'\n",
    "os.environ['TF_CUDNN_USE_AUTOTUNE'] ='0'\n",
    "os.environ[\"KERAS_BACKEND\"] = \"plaidml.keras.backend\"\n",
    "os.environ['TFHUB_CACHE_DIR'] = './Fake-News-Detection-Universal-Sentence-Encoder'\n",
    "\n",
    "import random\n",
    "random.seed(seed_value)\n",
    "\n",
    "import numpy as np\n",
    "from numpy.random import seed\n",
    "seed(seed_value)\n",
    "\n",
    "from pygments.lexers import go\n",
    "from sklearn.feature_extraction.text import CountVectorizer\n",
    "\n",
    "from tensorflow.python.framework import ops\n",
    "from sklearn.model_selection import train_test_split\n",
    "import tensorflow as tf\n",
    "import tensorflow._api.v2.compat.v1 as tf\n",
    "from tensorflow._api.v2.compat.v1 import set_random_seed\n",
    "set_random_seed(seed_value)\n",
    "\n",
    "import tensorflow_hub as hub\n",
    "import tensorflow_text\n",
    "\n",
    "import pandas as pd\n",
    "\n",
    "from tensorflow.keras.layers import LSTM, Dense, Bidirectional, Flatten, RepeatVector, Masking, TimeDistributed, Conv1D, SimpleRNN, Reshape\n",
    "from tensorflow.keras.layers import InputLayer\n",
    "from tensorflow.keras import layers\n",
    "\n",
    "import matplotlib.pyplot as plt\n",
    "\n",
    "from uk_stemmer import UkStemmer\n",
    "from stop_words import get_stop_words\n",
    "\n",
    "from sklearn.metrics import accuracy_score, f1_score, recall_score, precision_score, confusion_matrix\n",
    "\n",
    "from nltk.tokenize import word_tokenize\n",
    "\n",
    "import seaborn as sns\n",
    "\n",
    "import itertools\n",
    "\n",
    "import nltk\n",
    "nltk.download('punkt')\n",
    "\n",
    "from gensim.parsing.preprocessing import remove_stopwords, preprocess_string\n",
    "from gensim.parsing.preprocessing import STOPWORDS\n",
    "\n",
    "import ssl\n",
    "ssl._create_default_https_context = ssl._create_unverified_context\n",
    "\n",
    "try:\n",
    "    # Disable all GPUS\n",
    "    tf.config.set_visible_devices([], 'GPU')\n",
    "    visible_devices = tf.config.get_visible_devices()\n",
    "    for device in visible_devices:\n",
    "        assert device.device_type != 'GPU'\n",
    "except:\n",
    "    # Invalid device or cannot modify virtual devices once initialized.\n",
    "    pass\n",
    "\n",
    "tf.compat.v1.disable_eager_execution()\n",
    "ops.reset_default_graph()\n",
    "def reset_seeds():\n",
    "   np.random.seed(seed_value)\n",
    "   random.seed(seed_value)\n",
    "   tf.random.set_random_seed(seed_value)\n",
    "### Read data"
   ]
  },
  {
   "cell_type": "code",
   "execution_count": 3573,
   "metadata": {},
   "outputs": [
    {
     "name": "stdout",
     "output_type": "stream",
     "text": [
      "2.3.1\n"
     ]
    }
   ],
   "source": [
    "print(tf.__version__)\n",
    "reset_seeds()\n",
    "\n",
    "data = pd.read_excel('fakenws.xlsx')\n",
    "data = data[['title', 'text', 'label']]\n",
    "data.columns =  ['Title', 'Text', 'Label']"
   ]
  },
  {
   "cell_type": "code",
   "execution_count": 3574,
   "metadata": {},
   "outputs": [
    {
     "data": {
      "text/plain": "                                               Title  \\\n0  Олексій Зіневич замовив мітинг “АвтоЄвроСили”,...   \n1  Журналісти виявили, що Зіневич захопив ще 7 ді...   \n2  Гостомельського селищного голову Прилипка засу...   \n3  К убийству ветерана АТО в Киевской области при...   \n4  Саакашвили поставил Зеленскому ультиматум ради...   \n\n                                                Text Label  \n0  Скандальний забудовник Олексій Зіневич оплатив...  FAKE  \n1  Скандально відомий забудовник Олексій Зіневич ...  FAKE  \n2  Сьогодні, 3 червня, Бородянський районний суд ...  FAKE  \n3  К убийству в Киевской области ветерана АТО Иго...  FAKE  \n4  В Украину чартерным рейсом прилетела экс-глава...  FAKE  ",
      "text/html": "<div>\n<style scoped>\n    .dataframe tbody tr th:only-of-type {\n        vertical-align: middle;\n    }\n\n    .dataframe tbody tr th {\n        vertical-align: top;\n    }\n\n    .dataframe thead th {\n        text-align: right;\n    }\n</style>\n<table border=\"1\" class=\"dataframe\">\n  <thead>\n    <tr style=\"text-align: right;\">\n      <th></th>\n      <th>Title</th>\n      <th>Text</th>\n      <th>Label</th>\n    </tr>\n  </thead>\n  <tbody>\n    <tr>\n      <th>0</th>\n      <td>Олексій Зіневич замовив мітинг “АвтоЄвроСили”,...</td>\n      <td>Скандальний забудовник Олексій Зіневич оплатив...</td>\n      <td>FAKE</td>\n    </tr>\n    <tr>\n      <th>1</th>\n      <td>Журналісти виявили, що Зіневич захопив ще 7 ді...</td>\n      <td>Скандально відомий забудовник Олексій Зіневич ...</td>\n      <td>FAKE</td>\n    </tr>\n    <tr>\n      <th>2</th>\n      <td>Гостомельського селищного голову Прилипка засу...</td>\n      <td>Сьогодні, 3 червня, Бородянський районний суд ...</td>\n      <td>FAKE</td>\n    </tr>\n    <tr>\n      <th>3</th>\n      <td>К убийству ветерана АТО в Киевской области при...</td>\n      <td>К убийству в Киевской области ветерана АТО Иго...</td>\n      <td>FAKE</td>\n    </tr>\n    <tr>\n      <th>4</th>\n      <td>Саакашвили поставил Зеленскому ультиматум ради...</td>\n      <td>В Украину чартерным рейсом прилетела экс-глава...</td>\n      <td>FAKE</td>\n    </tr>\n  </tbody>\n</table>\n</div>"
     },
     "execution_count": 3574,
     "metadata": {},
     "output_type": "execute_result"
    }
   ],
   "source": [
    "data.head()"
   ]
  },
  {
   "cell_type": "code",
   "execution_count": 3575,
   "metadata": {},
   "outputs": [
    {
     "data": {
      "text/plain": "array(['FAKE', 'REAL'], dtype=object)"
     },
     "execution_count": 3575,
     "metadata": {},
     "output_type": "execute_result"
    }
   ],
   "source": [
    "data.Label.unique()"
   ]
  },
  {
   "cell_type": "code",
   "execution_count": 3576,
   "metadata": {},
   "outputs": [],
   "source": [
    "#data.shape"
   ]
  },
  {
   "cell_type": "code",
   "execution_count": 3577,
   "metadata": {},
   "outputs": [
    {
     "data": {
      "text/plain": "(162, 3)"
     },
     "execution_count": 3577,
     "metadata": {},
     "output_type": "execute_result"
    }
   ],
   "source": [
    "#data = data[:162]\n",
    "data.shape"
   ]
  },
  {
   "cell_type": "code",
   "execution_count": 3578,
   "metadata": {},
   "outputs": [],
   "source": [
    "pos = []\n",
    "neg = []\n",
    "lab = []\n",
    "for l in data.Label:\n",
    "    if l == 'FAKE':\n",
    "        pos.append(0)\n",
    "        neg.append(1)\n",
    "    elif l == 'REAL':\n",
    "        pos.append(1)\n",
    "        neg.append(0)"
   ]
  },
  {
   "cell_type": "code",
   "execution_count": 3579,
   "metadata": {},
   "outputs": [],
   "source": [
    "data['Pos']= pos\n",
    "data['Neg']= neg"
   ]
  },
  {
   "cell_type": "code",
   "execution_count": 3580,
   "metadata": {},
   "outputs": [
    {
     "data": {
      "text/plain": "                                               Title  \\\n0  Олексій Зіневич замовив мітинг “АвтоЄвроСили”,...   \n1  Журналісти виявили, що Зіневич захопив ще 7 ді...   \n2  Гостомельського селищного голову Прилипка засу...   \n3  К убийству ветерана АТО в Киевской области при...   \n4  Саакашвили поставил Зеленскому ультиматум ради...   \n\n                                                Text Label  Pos  Neg  \n0  Скандальний забудовник Олексій Зіневич оплатив...  FAKE    0    1  \n1  Скандально відомий забудовник Олексій Зіневич ...  FAKE    0    1  \n2  Сьогодні, 3 червня, Бородянський районний суд ...  FAKE    0    1  \n3  К убийству в Киевской области ветерана АТО Иго...  FAKE    0    1  \n4  В Украину чартерным рейсом прилетела экс-глава...  FAKE    0    1  ",
      "text/html": "<div>\n<style scoped>\n    .dataframe tbody tr th:only-of-type {\n        vertical-align: middle;\n    }\n\n    .dataframe tbody tr th {\n        vertical-align: top;\n    }\n\n    .dataframe thead th {\n        text-align: right;\n    }\n</style>\n<table border=\"1\" class=\"dataframe\">\n  <thead>\n    <tr style=\"text-align: right;\">\n      <th></th>\n      <th>Title</th>\n      <th>Text</th>\n      <th>Label</th>\n      <th>Pos</th>\n      <th>Neg</th>\n    </tr>\n  </thead>\n  <tbody>\n    <tr>\n      <th>0</th>\n      <td>Олексій Зіневич замовив мітинг “АвтоЄвроСили”,...</td>\n      <td>Скандальний забудовник Олексій Зіневич оплатив...</td>\n      <td>FAKE</td>\n      <td>0</td>\n      <td>1</td>\n    </tr>\n    <tr>\n      <th>1</th>\n      <td>Журналісти виявили, що Зіневич захопив ще 7 ді...</td>\n      <td>Скандально відомий забудовник Олексій Зіневич ...</td>\n      <td>FAKE</td>\n      <td>0</td>\n      <td>1</td>\n    </tr>\n    <tr>\n      <th>2</th>\n      <td>Гостомельського селищного голову Прилипка засу...</td>\n      <td>Сьогодні, 3 червня, Бородянський районний суд ...</td>\n      <td>FAKE</td>\n      <td>0</td>\n      <td>1</td>\n    </tr>\n    <tr>\n      <th>3</th>\n      <td>К убийству ветерана АТО в Киевской области при...</td>\n      <td>К убийству в Киевской области ветерана АТО Иго...</td>\n      <td>FAKE</td>\n      <td>0</td>\n      <td>1</td>\n    </tr>\n    <tr>\n      <th>4</th>\n      <td>Саакашвили поставил Зеленскому ультиматум ради...</td>\n      <td>В Украину чартерным рейсом прилетела экс-глава...</td>\n      <td>FAKE</td>\n      <td>0</td>\n      <td>1</td>\n    </tr>\n  </tbody>\n</table>\n</div>"
     },
     "execution_count": 3580,
     "metadata": {},
     "output_type": "execute_result"
    }
   ],
   "source": [
    "data.head()"
   ]
  },
  {
   "cell_type": "markdown",
   "metadata": {},
   "source": [
    "### Split data into test and train"
   ]
  },
  {
   "cell_type": "code",
   "execution_count": 3581,
   "outputs": [],
   "source": [
    "data_train, data_test = train_test_split(data, test_size=0.15, random_state=42)"
   ],
   "metadata": {
    "collapsed": false,
    "pycharm": {
     "name": "#%%\n"
    }
   }
  },
  {
   "cell_type": "markdown",
   "source": [
    "### Removing stopwords"
   ],
   "metadata": {
    "collapsed": false
   }
  },
  {
   "cell_type": "code",
   "execution_count": 3582,
   "outputs": [
    {
     "name": "stdout",
     "output_type": "stream",
     "text": [
      "['a', 'б', 'в', 'г', 'е', 'ж', 'з', 'м', 'т', 'у', 'я', 'є', 'і', 'аж', 'ви', 'де', 'до', 'за', 'зі', 'ми', 'на', 'не', 'ну', 'нх', 'ні', 'по', 'та', 'ти', 'то', 'ту', 'ті', 'це', 'цю', 'ця', 'ці', 'чи', 'ще', 'що', 'як', 'їй', 'їм', 'їх', 'її', 'або', 'але', 'ало', 'без', 'був', 'вам', 'вас', 'ваш', 'вже', 'все', 'всю', 'вся', 'від', 'він', 'два', 'дві', 'для', 'ким', 'мож', 'моя', 'моє', 'мої', 'міг', 'між', 'мій', 'над', 'нам', 'нас', 'наш', 'нею', 'неї', 'них', 'ніж', 'ній', 'ось', 'при', 'про', 'під', 'пір', 'раз', 'рік', 'сам', 'сих', 'сім', 'так', 'там', 'теж', 'тим', 'тих', 'той', 'тою', 'три', 'тут', 'хоч', 'хто', 'цей', 'цим', 'цих', 'час', 'щоб', 'яка', 'які', 'адже', 'буде', 'буду', 'будь', 'була', 'були', 'було', 'бути', 'вами', 'ваша', 'ваше', 'ваші', 'весь', 'вниз', 'вона', 'вони', 'воно', 'всею', 'всім', 'всіх', 'втім', 'геть', 'далі', 'двох', 'день', 'дуже', 'зате', 'його', 'йому', 'каже', 'кого', 'коли', 'кому', 'крім', 'куди', 'лише', 'люди', 'мало', 'мати', 'мене', 'мені', 'миру', 'мною', 'може', 'нами', 'наша', 'наше', 'наші', 'ними', 'ніби', 'один', 'поки', 'пора', 'рано', 'року', 'році', 'сама', 'саме', 'саму', 'самі', 'свою', 'своє', 'свої', 'себе', 'собі', 'став', 'суть', 'така', 'таке', 'такі', 'твоя', 'твоє', 'твій', 'тебе', 'тими', 'тобі', 'того', 'тоді', 'тому', 'туди', 'хоча', 'хіба', 'цими', 'цієї', 'часу', 'чого', 'чому', 'який', 'яких', 'якої', 'якщо', \"ім'я\", 'інша', 'інше', 'інші', 'буває', 'будеш', 'більш', 'вгору', 'вміти', 'внизу', 'вісім', 'давно', 'даром', 'добре', 'довго', 'друго', 'дякую', 'життя', 'зараз', 'знову', 'какая', 'кожен', 'кожна', 'кожне', 'кожні', 'краще', 'ледве', 'майже', 'менше', 'могти', 'можна', 'назад', 'немає', 'нижче', 'нього', 'однак', \"п'ять\", 'перед', 'поруч', 'потім', 'проти', 'після', 'років', 'самим', 'самих', 'самій', 'свого', 'своєї', 'своїх', 'собою', 'справ', 'такий', 'також', 'тепер', 'тисяч', 'тобою', 'треба', 'трохи', 'усюди', 'усіма', 'хочеш', 'цього', 'цьому', 'часто', 'через', 'шість', 'якого', 'іноді', 'інший', 'інших', 'багато', 'будемо', 'будете', 'будуть', 'більше', 'всього', 'всьому', 'далеко', 'десять', 'досить', 'другий', 'дійсно', 'завжди', 'звідси', 'зовсім', 'кругом', 'кілька', 'людина', 'можуть', 'навіть', 'навіщо', 'нагорі', 'небудь', 'низько', 'ніколи', 'нікуди', 'нічого', 'обидва', 'одного', 'однієї', \"п'ятий\", 'перший', 'просто', 'раніше', 'раптом', 'самими', 'самого', 'самому', 'сказав', 'скрізь', 'сьомий', 'третій', 'тільки', 'хотіти', 'чотири', 'чудово', 'шостий', 'близько', 'важлива', 'важливе', 'важливі', 'вдалині', 'восьмий', 'говорив', \"дев'ять\", 'десятий', 'зайнята', 'зайнято', 'зайняті', 'занадто', 'значить', 'навколо', 'нарешті', 'нерідко', 'повинно', 'посеред', 'початку', 'пізніше', 'сказала', 'сказати', 'скільки', 'спасибі', 'частіше', 'важливий', 'двадцять', \"дев'ятий\", 'зазвичай', 'зайнятий', 'звичайно', 'здається', 'найбільш', 'не можна', 'недалеко', 'особливо', 'потрібно', 'спочатку', 'сьогодні', 'численна', 'численне', 'численні', 'відсотків', 'двадцятий', 'звідусіль', 'мільйонів', 'нещодавно', 'прекрасно', 'четвертий', 'численний', 'будь ласка', 'дванадцять', 'одинадцять', 'сімнадцять', 'тринадцять', 'безперервно', 'дванадцятий', 'одинадцятий', 'одного разу', \"п'ятнадцять\", 'сімнадцятий', 'тринадцятий', 'шістнадцять', 'вісімнадцять', \"п'ятнадцятий\", 'чотирнадцять', 'шістнадцятий', 'вісімнадцятий', \"дев'ятнадцять\", 'чотирнадцятий', \"дев'ятнадцятий\"]\n",
      "В україні вбили\n",
      "0      Скандальний забудовник Олексій Зіневич оплатив...\n",
      "1      Скандально відомий забудовник Олексій Зіневич ...\n",
      "2      Сьогодні, 3 червня, Бородянський районний суд ...\n",
      "3      К убийству Киевской области ветерана АТО Игоря...\n",
      "4      В Украину чартерным рейсом прилетела экс-глава...\n",
      "                             ...                        \n",
      "157    Сьогодні Києві кандидат президенти Анатолій Гр...\n",
      "158    Сьогодні Києві комп’ютері Президента України в...\n",
      "159    Сьогодні Київському магазині “Укрїнський секон...\n",
      "160    Джинси Святослава Вакарчука, заяви лідера гурт...\n",
      "161    Сервіс блокування реклами інтернеті AdBlock ви...\n",
      "Name: Text, Length: 162, dtype: object\n"
     ]
    }
   ],
   "source": [
    "stop_words = get_stop_words('ukrainian', True)\n",
    "print(stop_words)\n",
    "my_stop_words = STOPWORDS.union(set(stop_words))\n",
    "\n",
    "def removestopwords(text):\n",
    "    s = utils.to_unicode(text)\n",
    "    return \" \".join(w for w in s.split() if w not in stop_words)\n",
    "\n",
    "data['Text'] = data['Text'].apply(removestopwords)\n",
    "\n",
    "print(removestopwords(\"В україні вбили кого в т нам нам вас їх мене\"))\n",
    "print(data['Text'])"
   ],
   "metadata": {
    "collapsed": false,
    "pycharm": {
     "name": "#%%\n"
    }
   }
  },
  {
   "cell_type": "code",
   "execution_count": 3583,
   "outputs": [
    {
     "data": {
      "text/plain": "                                               Title  \\\n0  Олексій Зіневич замовив мітинг “АвтоЄвроСили”,...   \n1  Журналісти виявили, що Зіневич захопив ще 7 ді...   \n2  Гостомельського селищного голову Прилипка засу...   \n3  К убийству ветерана АТО в Киевской области при...   \n4  Саакашвили поставил Зеленскому ультиматум ради...   \n5  Радикальні \"Свої\": Як Береза спробує взяти Киї...   \n6  Поліція вивернула шию хлопцеві за порушення ка...   \n7  Уряд зобов’язав магазини і аптеки видавати від...   \n8  Шабунін та Шерембей планують звернення до посл...   \n9  Новий начальник поліції Ірпеня вивчить справи ...   \n\n                                                Text Label  Pos  Neg  \n0  Скандальний забудовник Олексій Зіневич оплатив...  FAKE    0    1  \n1  Скандально відомий забудовник Олексій Зіневич ...  FAKE    0    1  \n2  Сьогодні, 3 червня, Бородянський районний суд ...  FAKE    0    1  \n3  К убийству Киевской области ветерана АТО Игоря...  FAKE    0    1  \n4  В Украину чартерным рейсом прилетела экс-глава...  FAKE    0    1  \n5  Колишній нардеп Борислав Береза, пройшов одном...  FAKE    0    1  \n6  У Тернополі почав назрівати новий конфлікт. На...  FAKE    0    1  \n7  З шостого квітня магазини, аптеки, пошти, банк...  FAKE    0    1  \n8  КИЇВ. 9 квітня. УНН. Засновник \"Центру протиді...  FAKE    0    1  \n9  Валерій Євтушенко, начальник Ірпінського відді...  FAKE    0    1  ",
      "text/html": "<div>\n<style scoped>\n    .dataframe tbody tr th:only-of-type {\n        vertical-align: middle;\n    }\n\n    .dataframe tbody tr th {\n        vertical-align: top;\n    }\n\n    .dataframe thead th {\n        text-align: right;\n    }\n</style>\n<table border=\"1\" class=\"dataframe\">\n  <thead>\n    <tr style=\"text-align: right;\">\n      <th></th>\n      <th>Title</th>\n      <th>Text</th>\n      <th>Label</th>\n      <th>Pos</th>\n      <th>Neg</th>\n    </tr>\n  </thead>\n  <tbody>\n    <tr>\n      <th>0</th>\n      <td>Олексій Зіневич замовив мітинг “АвтоЄвроСили”,...</td>\n      <td>Скандальний забудовник Олексій Зіневич оплатив...</td>\n      <td>FAKE</td>\n      <td>0</td>\n      <td>1</td>\n    </tr>\n    <tr>\n      <th>1</th>\n      <td>Журналісти виявили, що Зіневич захопив ще 7 ді...</td>\n      <td>Скандально відомий забудовник Олексій Зіневич ...</td>\n      <td>FAKE</td>\n      <td>0</td>\n      <td>1</td>\n    </tr>\n    <tr>\n      <th>2</th>\n      <td>Гостомельського селищного голову Прилипка засу...</td>\n      <td>Сьогодні, 3 червня, Бородянський районний суд ...</td>\n      <td>FAKE</td>\n      <td>0</td>\n      <td>1</td>\n    </tr>\n    <tr>\n      <th>3</th>\n      <td>К убийству ветерана АТО в Киевской области при...</td>\n      <td>К убийству Киевской области ветерана АТО Игоря...</td>\n      <td>FAKE</td>\n      <td>0</td>\n      <td>1</td>\n    </tr>\n    <tr>\n      <th>4</th>\n      <td>Саакашвили поставил Зеленскому ультиматум ради...</td>\n      <td>В Украину чартерным рейсом прилетела экс-глава...</td>\n      <td>FAKE</td>\n      <td>0</td>\n      <td>1</td>\n    </tr>\n    <tr>\n      <th>5</th>\n      <td>Радикальні \"Свої\": Як Береза спробує взяти Киї...</td>\n      <td>Колишній нардеп Борислав Береза, пройшов одном...</td>\n      <td>FAKE</td>\n      <td>0</td>\n      <td>1</td>\n    </tr>\n    <tr>\n      <th>6</th>\n      <td>Поліція вивернула шию хлопцеві за порушення ка...</td>\n      <td>У Тернополі почав назрівати новий конфлікт. На...</td>\n      <td>FAKE</td>\n      <td>0</td>\n      <td>1</td>\n    </tr>\n    <tr>\n      <th>7</th>\n      <td>Уряд зобов’язав магазини і аптеки видавати від...</td>\n      <td>З шостого квітня магазини, аптеки, пошти, банк...</td>\n      <td>FAKE</td>\n      <td>0</td>\n      <td>1</td>\n    </tr>\n    <tr>\n      <th>8</th>\n      <td>Шабунін та Шерембей планують звернення до посл...</td>\n      <td>КИЇВ. 9 квітня. УНН. Засновник \"Центру протиді...</td>\n      <td>FAKE</td>\n      <td>0</td>\n      <td>1</td>\n    </tr>\n    <tr>\n      <th>9</th>\n      <td>Новий начальник поліції Ірпеня вивчить справи ...</td>\n      <td>Валерій Євтушенко, начальник Ірпінського відді...</td>\n      <td>FAKE</td>\n      <td>0</td>\n      <td>1</td>\n    </tr>\n  </tbody>\n</table>\n</div>"
     },
     "execution_count": 3583,
     "metadata": {},
     "output_type": "execute_result"
    }
   ],
   "source": [
    "data.head(10)"
   ],
   "metadata": {
    "collapsed": false,
    "pycharm": {
     "name": "#%%\n"
    }
   }
  },
  {
   "cell_type": "code",
   "execution_count": 3583,
   "outputs": [],
   "source": [],
   "metadata": {
    "collapsed": false,
    "pycharm": {
     "name": "#%%\n"
    }
   }
  },
  {
   "cell_type": "markdown",
   "metadata": {},
   "source": [
    "### Load Universal Sentence Encoder"
   ]
  },
  {
   "cell_type": "code",
   "execution_count": 3584,
   "metadata": {},
   "outputs": [],
   "source": [
    "module_url = \"https://tfhub.dev/google/universal-sentence-encoder-multilingual/3\"\n",
    "embed = hub.load(module_url)\n"
   ]
  },
  {
   "cell_type": "markdown",
   "source": [
    "### Stemming"
   ],
   "metadata": {
    "collapsed": false
   }
  },
  {
   "cell_type": "code",
   "execution_count": 3585,
   "outputs": [
    {
     "data": {
      "text/plain": "                                               Title  \\\n0  Олексій Зіневич замовив мітинг “АвтоЄвроСили”,...   \n1  Журналісти виявили, що Зіневич захопив ще 7 ді...   \n2  Гостомельського селищного голову Прилипка засу...   \n3  К убийству ветерана АТО в Киевской области при...   \n4  Саакашвили поставил Зеленскому ультиматум ради...   \n5  Радикальні \"Свої\": Як Береза спробує взяти Киї...   \n6  Поліція вивернула шию хлопцеві за порушення ка...   \n7  Уряд зобов’язав магазини і аптеки видавати від...   \n8  Шабунін та Шерембей планують звернення до посл...   \n9  Новий начальник поліції Ірпеня вивчить справи ...   \n\n                                                Text Label  Pos  Neg  \n0  скандальн забудовник олекс зіневич оплат послу...  FAKE    0    1  \n1  скандальн відом забудовник олекс зіневич самов...  FAKE    0    1  \n2  сьогодні, 3 червня, бородянськ районн суд приз...  FAKE    0    1  \n3  к убийств киевск област ветеран ат игор корние...  FAKE    0    1  \n4  в украин чартерным рейс прилетел экс-глав нацп...  FAKE    0    1  \n5  колишн нардеп борисл береза, пройш одн київськ...  FAKE    0    1  \n6  у тернопол поч назрів нов конфлікт. на причин ...  FAKE    0    1  \n7  з шост квітн магазини, аптеки, пошти, банк зак...  FAKE    0    1  \n8  київ. 9 квітня. унн. засновник \"центр протиді ...  FAKE    0    1  \n9  валер євтушенко, начальник ірпінськ відділ пол...  FAKE    0    1  ",
      "text/html": "<div>\n<style scoped>\n    .dataframe tbody tr th:only-of-type {\n        vertical-align: middle;\n    }\n\n    .dataframe tbody tr th {\n        vertical-align: top;\n    }\n\n    .dataframe thead th {\n        text-align: right;\n    }\n</style>\n<table border=\"1\" class=\"dataframe\">\n  <thead>\n    <tr style=\"text-align: right;\">\n      <th></th>\n      <th>Title</th>\n      <th>Text</th>\n      <th>Label</th>\n      <th>Pos</th>\n      <th>Neg</th>\n    </tr>\n  </thead>\n  <tbody>\n    <tr>\n      <th>0</th>\n      <td>Олексій Зіневич замовив мітинг “АвтоЄвроСили”,...</td>\n      <td>скандальн забудовник олекс зіневич оплат послу...</td>\n      <td>FAKE</td>\n      <td>0</td>\n      <td>1</td>\n    </tr>\n    <tr>\n      <th>1</th>\n      <td>Журналісти виявили, що Зіневич захопив ще 7 ді...</td>\n      <td>скандальн відом забудовник олекс зіневич самов...</td>\n      <td>FAKE</td>\n      <td>0</td>\n      <td>1</td>\n    </tr>\n    <tr>\n      <th>2</th>\n      <td>Гостомельського селищного голову Прилипка засу...</td>\n      <td>сьогодні, 3 червня, бородянськ районн суд приз...</td>\n      <td>FAKE</td>\n      <td>0</td>\n      <td>1</td>\n    </tr>\n    <tr>\n      <th>3</th>\n      <td>К убийству ветерана АТО в Киевской области при...</td>\n      <td>к убийств киевск област ветеран ат игор корние...</td>\n      <td>FAKE</td>\n      <td>0</td>\n      <td>1</td>\n    </tr>\n    <tr>\n      <th>4</th>\n      <td>Саакашвили поставил Зеленскому ультиматум ради...</td>\n      <td>в украин чартерным рейс прилетел экс-глав нацп...</td>\n      <td>FAKE</td>\n      <td>0</td>\n      <td>1</td>\n    </tr>\n    <tr>\n      <th>5</th>\n      <td>Радикальні \"Свої\": Як Береза спробує взяти Киї...</td>\n      <td>колишн нардеп борисл береза, пройш одн київськ...</td>\n      <td>FAKE</td>\n      <td>0</td>\n      <td>1</td>\n    </tr>\n    <tr>\n      <th>6</th>\n      <td>Поліція вивернула шию хлопцеві за порушення ка...</td>\n      <td>у тернопол поч назрів нов конфлікт. на причин ...</td>\n      <td>FAKE</td>\n      <td>0</td>\n      <td>1</td>\n    </tr>\n    <tr>\n      <th>7</th>\n      <td>Уряд зобов’язав магазини і аптеки видавати від...</td>\n      <td>з шост квітн магазини, аптеки, пошти, банк зак...</td>\n      <td>FAKE</td>\n      <td>0</td>\n      <td>1</td>\n    </tr>\n    <tr>\n      <th>8</th>\n      <td>Шабунін та Шерембей планують звернення до посл...</td>\n      <td>київ. 9 квітня. унн. засновник \"центр протиді ...</td>\n      <td>FAKE</td>\n      <td>0</td>\n      <td>1</td>\n    </tr>\n    <tr>\n      <th>9</th>\n      <td>Новий начальник поліції Ірпеня вивчить справи ...</td>\n      <td>валер євтушенко, начальник ірпінськ відділ пол...</td>\n      <td>FAKE</td>\n      <td>0</td>\n      <td>1</td>\n    </tr>\n  </tbody>\n</table>\n</div>"
     },
     "execution_count": 3585,
     "metadata": {},
     "output_type": "execute_result"
    }
   ],
   "source": [
    "stemmer = UkStemmer()\n",
    "\n",
    "def stemming(text):\n",
    "    text = [stemmer.stem_word(word) for word in text.split()]\n",
    "    return \" \".join(text)\n",
    "\n",
    "data['Text'] = data['Text'].apply(stemming)\n",
    "data.head(10)"
   ],
   "metadata": {
    "collapsed": false,
    "pycharm": {
     "name": "#%%\n"
    }
   }
  },
  {
   "cell_type": "markdown",
   "metadata": {},
   "source": [
    "### Get Embeddings"
   ]
  },
  {
   "cell_type": "code",
   "execution_count": 3586,
   "metadata": {},
   "outputs": [],
   "source": [
    "data.Label.value_counts()\n",
    "with tf.compat.v1.Session() as session:\n",
    "    session.run([tf.compat.v1.global_variables_initializer(), tf.compat.v1.tables_initializer()])\n",
    "    training_embeddings = session.run(embed(data_train.Text.to_list()))"
   ]
  },
  {
   "cell_type": "code",
   "execution_count": 3587,
   "metadata": {},
   "outputs": [],
   "source": [
    "label_names = ['Pos', 'Neg']\n",
    "FAKE_len = data[data['Label'] == 'FAKE'].shape[0]\n",
    "REAL_len = data[data['Label'] == 'REAL'].shape[0]"
   ]
  },
  {
   "cell_type": "code",
   "execution_count": 3588,
   "metadata": {},
   "outputs": [],
   "source": [
    "y_train = data_train[label_names].values"
   ]
  },
  {
   "cell_type": "markdown",
   "metadata": {},
   "source": [
    "### Define NN"
   ]
  },
  {
   "cell_type": "code",
   "execution_count": 3589,
   "metadata": {},
   "outputs": [
    {
     "name": "stdout",
     "output_type": "stream",
     "text": [
      "(137, 512)\n"
     ]
    }
   ],
   "source": [
    "input_shape = training_embeddings.shape\n",
    "print(input_shape)\n",
    "\n",
    "model = tf.keras.Sequential()\n",
    "#relu = 7755\n",
    "#sigmoid = 8367\n",
    "#hard_sigmoid = 755\n",
    "#exponential = 7959\n",
    "model.add(Dense(128, activation = 'sigmoid'))\n",
    "model.add(Dense(2, activation = 'softmax'))"
   ]
  },
  {
   "cell_type": "code",
   "execution_count": 3590,
   "metadata": {},
   "outputs": [],
   "source": [
    "model.compile(loss='binary_crossentropy', optimizer='adam', metrics=['acc'])"
   ]
  },
  {
   "cell_type": "code",
   "execution_count": 3591,
   "metadata": {},
   "outputs": [
    {
     "name": "stdout",
     "output_type": "stream",
     "text": [
      "Model: \"sequential\"\n",
      "_________________________________________________________________\n",
      "Layer (type)                 Output Shape              Param #   \n",
      "=================================================================\n",
      "dense (Dense)                multiple                  65664     \n",
      "_________________________________________________________________\n",
      "dense_1 (Dense)              multiple                  258       \n",
      "=================================================================\n",
      "Total params: 65,922\n",
      "Trainable params: 65,922\n",
      "Non-trainable params: 0\n",
      "_________________________________________________________________\n"
     ]
    }
   ],
   "source": [
    "model.build(input_shape)\n",
    "model.summary()"
   ]
  },
  {
   "cell_type": "markdown",
   "metadata": {},
   "source": [
    "### Train NN"
   ]
  },
  {
   "cell_type": "code",
   "execution_count": 3592,
   "metadata": {},
   "outputs": [],
   "source": [
    "num_epochs = 23\n",
    "batch_size = 32"
   ]
  },
  {
   "cell_type": "code",
   "execution_count": 3593,
   "metadata": {},
   "outputs": [
    {
     "name": "stdout",
     "output_type": "stream",
     "text": [
      "Train on 89 samples, validate on 48 samples\n",
      "Epoch 1/23\n",
      "89/89 [==============================] - 0s 3ms/sample - loss: 0.8217 - acc: 0.4494 - val_loss: 0.7544 - val_acc: 0.4167\b\b\b\b\b\b\b\b\b\b\b\b\b\b\b\b\b\b\b\b\b\b\b\b\b\b\b\b\b\b\b\b\b\b\n",
      "Epoch 2/23\n",
      "89/89 [==============================] - 0s 55us/sample - loss: 0.7136 - acc: 0.4494 - val_loss: 0.6760 - val_acc: 0.7292\b\b\b\b\b\b\b\b\b\b\b\b\b\b\b\b\b\b\b\b\b\b\b\b\b\b\b\b\b\b\b\b\b\n",
      "Epoch 3/23\n",
      "89/89 [==============================] - 0s 56us/sample - loss: 0.6698 - acc: 0.6404 - val_loss: 0.6530 - val_acc: 0.5833\b\b\b\b\b\b\b\b\b\b\b\b\b\b\b\b\b\b\b\b\b\b\b\b\b\b\b\b\b\b\b\b\b\n",
      "Epoch 4/23\n",
      "89/89 [==============================] - 0s 65us/sample - loss: 0.6682 - acc: 0.5506 - val_loss: 0.6536 - val_acc: 0.5833\b\b\b\b\b\b\b\b\b\b\b\b\b\b\b\b\b\b\b\b\b\b\b\b\b\b\b\b\b\b\b\b\b\n",
      "Epoch 5/23\n",
      "89/89 [==============================] - 0s 73us/sample - loss: 0.6753 - acc: 0.5506 - val_loss: 0.6524 - val_acc: 0.5833\b\b\b\b\b\b\b\b\b\b\b\b\b\b\b\b\b\b\b\b\b\b\b\b\b\b\b\b\b\b\b\b\b\n",
      "Epoch 6/23\n",
      "89/89 [==============================] - 0s 63us/sample - loss: 0.6723 - acc: 0.5506 - val_loss: 0.6443 - val_acc: 0.5833\b\b\b\b\b\b\b\b\b\b\b\b\b\b\b\b\b\b\b\b\b\b\b\b\b\b\b\b\b\b\b\b\b\n",
      "Epoch 7/23\n",
      "89/89 [==============================] - 0s 66us/sample - loss: 0.6595 - acc: 0.5506 - val_loss: 0.6345 - val_acc: 0.5833\b\b\b\b\b\b\b\b\b\b\b\b\b\b\b\b\b\b\b\b\b\b\b\b\b\b\b\b\b\b\b\b\b\n",
      "Epoch 8/23\n",
      "89/89 [==============================] - 0s 64us/sample - loss: 0.6446 - acc: 0.5730 - val_loss: 0.6286 - val_acc: 0.6667\b\b\b\b\b\b\b\b\b\b\b\b\b\b\b\b\b\b\b\b\b\b\b\b\b\b\b\b\b\b\b\b\b\n",
      "Epoch 9/23\n",
      "89/89 [==============================] - 0s 72us/sample - loss: 0.6334 - acc: 0.6629 - val_loss: 0.6272 - val_acc: 0.7292\b\b\b\b\b\b\b\b\b\b\b\b\b\b\b\b\b\b\b\b\b\b\b\b\b\b\b\b\b\b\b\b\b\n",
      "Epoch 10/23\n",
      "89/89 [==============================] - 0s 73us/sample - loss: 0.6266 - acc: 0.6854 - val_loss: 0.6269 - val_acc: 0.7292\b\b\b\b\b\b\b\b\b\b\b\b\b\b\b\b\b\b\b\b\b\b\b\b\b\b\b\b\b\b\b\b\b\n",
      "Epoch 11/23\n",
      "89/89 [==============================] - 0s 77us/sample - loss: 0.6212 - acc: 0.7079 - val_loss: 0.6240 - val_acc: 0.7292\b\b\b\b\b\b\b\b\b\b\b\b\b\b\b\b\b\b\b\b\b\b\b\b\b\b\b\b\b\b\b\b\b\n",
      "Epoch 12/23\n",
      "89/89 [==============================] - 0s 75us/sample - loss: 0.6151 - acc: 0.7303 - val_loss: 0.6180 - val_acc: 0.7292\b\b\b\b\b\b\b\b\b\b\b\b\b\b\b\b\b\b\b\b\b\b\b\b\b\b\b\b\b\b\b\b\b\n",
      "Epoch 13/23\n",
      "89/89 [==============================] - 0s 77us/sample - loss: 0.6082 - acc: 0.7191 - val_loss: 0.6106 - val_acc: 0.7292\b\b\b\b\b\b\b\b\b\b\b\b\b\b\b\b\b\b\b\b\b\b\b\b\b\b\b\b\b\b\b\b\b\n",
      "Epoch 14/23\n",
      "89/89 [==============================] - 0s 68us/sample - loss: 0.6015 - acc: 0.7079 - val_loss: 0.6036 - val_acc: 0.7292\b\b\b\b\b\b\b\b\b\b\b\b\b\b\b\b\b\b\b\b\b\b\b\b\b\b\b\b\b\b\b\b\b\n",
      "Epoch 15/23\n",
      "89/89 [==============================] - 0s 68us/sample - loss: 0.5958 - acc: 0.7079 - val_loss: 0.5979 - val_acc: 0.7292\b\b\b\b\b\b\b\b\b\b\b\b\b\b\b\b\b\b\b\b\b\b\b\b\b\b\b\b\b\b\b\b\b\n",
      "Epoch 16/23\n",
      "89/89 [==============================] - 0s 78us/sample - loss: 0.5908 - acc: 0.7079 - val_loss: 0.5932 - val_acc: 0.7292\b\b\b\b\b\b\b\b\b\b\b\b\b\b\b\b\b\b\b\b\b\b\b\b\b\b\b\b\b\b\b\b\b\n",
      "Epoch 17/23\n",
      "89/89 [==============================] - 0s 103us/sample - loss: 0.5858 - acc: 0.6966 - val_loss: 0.5892 - val_acc: 0.7292\b\b\b\b\b\b\b\b\b\b\b\b\b\b\b\b\b\b\b\b\b\b\b\b\b\b\b\b\b\b\b\b\n",
      "Epoch 18/23\n",
      "89/89 [==============================] - 0s 79us/sample - loss: 0.5804 - acc: 0.6966 - val_loss: 0.5856 - val_acc: 0.7292\b\b\b\b\b\b\b\b\b\b\b\b\b\b\b\b\b\b\b\b\b\b\b\b\b\b\b\b\b\b\b\b\b\n",
      "Epoch 19/23\n",
      "89/89 [==============================] - 0s 85us/sample - loss: 0.5747 - acc: 0.7079 - val_loss: 0.5825 - val_acc: 0.7292\b\b\b\b\b\b\b\b\b\b\b\b\b\b\b\b\b\b\b\b\b\b\b\b\b\b\b\b\b\b\b\b\b\n",
      "Epoch 20/23\n",
      "89/89 [==============================] - 0s 81us/sample - loss: 0.5689 - acc: 0.7303 - val_loss: 0.5797 - val_acc: 0.7083\b\b\b\b\b\b\b\b\b\b\b\b\b\b\b\b\b\b\b\b\b\b\b\b\b\b\b\b\b\b\b\b\b\n",
      "Epoch 21/23\n",
      "89/89 [==============================] - 0s 78us/sample - loss: 0.5634 - acc: 0.7416 - val_loss: 0.5768 - val_acc: 0.7500\b\b\b\b\b\b\b\b\b\b\b\b\b\b\b\b\b\b\b\b\b\b\b\b\b\b\b\b\b\b\b\b\b\n",
      "Epoch 22/23\n",
      "89/89 [==============================] - 0s 77us/sample - loss: 0.5580 - acc: 0.7640 - val_loss: 0.5737 - val_acc: 0.7500\b\b\b\b\b\b\b\b\b\b\b\b\b\b\b\b\b\b\b\b\b\b\b\b\b\b\b\b\b\b\b\b\b\n",
      "Epoch 23/23\n",
      "89/89 [==============================] - 0s 64us/sample - loss: 0.5527 - acc: 0.7640 - val_loss: 0.5701 - val_acc: 0.7500\b\b\b\b\b\b\b\b\b\b\b\b\b\b\b\b\b\b\b\b\b\b\b\b\b\b\b\b\b\b\b\b\b\n"
     ]
    }
   ],
   "source": [
    "history = model.fit(training_embeddings, y_train, epochs=num_epochs, validation_split=0.35, shuffle=False, batch_size=batch_size)"
   ]
  },
  {
   "cell_type": "code",
   "execution_count": 3594,
   "metadata": {},
   "outputs": [
    {
     "data": {
      "text/plain": "<Figure size 432x288 with 1 Axes>",
      "image/png": "[encoded data removed]"
     },
     "metadata": {
      "needs_background": "light"
     },
     "output_type": "display_data"
    }
   ],
   "source": [
    "plt.plot(history.history['acc'])\n",
    "plt.plot(history.history['val_acc'])\n",
    "plt.title('Точність моделі')\n",
    "plt.ylabel('точність')\n",
    "plt.xlabel('епоха')\n",
    "plt.legend(['тест', 'навч'], loc='upper left')\n",
    "plt.show()"
   ]
  },
  {
   "cell_type": "code",
   "execution_count": 3595,
   "metadata": {},
   "outputs": [
    {
     "data": {
      "text/plain": "<Figure size 432x288 with 1 Axes>",
      "image/png": "[encoded data removed]"
     },
     "metadata": {
      "needs_background": "light"
     },
     "output_type": "display_data"
    }
   ],
   "source": [
    "plt.plot(history.history['loss'])\n",
    "plt.plot(history.history['val_loss'])\n",
    "plt.title('model loss')\n",
    "plt.ylabel('loss')\n",
    "plt.xlabel('епоха')\n",
    "plt.legend(['тест', 'навч'], loc='upper left')\n",
    "plt.show()"
   ]
  },
  {
   "cell_type": "code",
   "execution_count": 3596,
   "outputs": [
    {
     "data": {
      "text/plain": "<Figure size 432x288 with 1 Axes>",
      "image/png": "[encoded data removed]"
     },
     "metadata": {
      "needs_background": "light"
     },
     "output_type": "display_data"
    }
   ],
   "source": [
    "# bar plot of the 3 classes\n",
    "plt.bar(10,FAKE_len,3, label=\"FAKE\")\n",
    "plt.bar(15,REAL_len,3, label=\"REAL\")\n",
    "plt.legend()\n",
    "plt.ylabel('Кількість')\n",
    "plt.title('Пропорція')\n",
    "plt.show()"
   ],
   "metadata": {
    "collapsed": false,
    "pycharm": {
     "name": "#%%\n"
    }
   }
  },
  {
   "cell_type": "code",
   "execution_count": 3597,
   "outputs": [
    {
     "data": {
      "text/plain": "Text(0.5,1,'ТОП слів у фейкових новинах')"
     },
     "execution_count": 3597,
     "metadata": {},
     "output_type": "execute_result"
    },
    {
     "data": {
      "text/plain": "<Figure size 432x576 with 1 Axes>",
      "image/png": "[encoded data removed]"
     },
     "metadata": {
      "needs_background": "light"
     },
     "output_type": "display_data"
    }
   ],
   "source": [
    "# create a count vectorizer object\n",
    "count_vectorizer = CountVectorizer()\n",
    "# fit the count vectorizer using the text data\n",
    "count_vectorizer.fit(data[data['Label'] == 'FAKE'] ['Text'])\n",
    "#count_vectorizer.fit(data['Text'])\n",
    "# collect the vocabulary items used in the vectorizer\n",
    "dictionary = count_vectorizer.vocabulary_.items()\n",
    "\n",
    "# lists to store the vocab and counts\n",
    "vocab = []\n",
    "count = []\n",
    "# iterate through each vocab and count append the value to designated lists\n",
    "for key, value in dictionary:\n",
    "    vocab.append(key)\n",
    "    count.append(value)\n",
    "# store the count in panadas dataframe with vocab as index\n",
    "vocab_bef_stem = pd.Series(count, index=vocab)\n",
    "# sort the dataframe\n",
    "vocab_bef_stem = vocab_bef_stem.sort_values(ascending=False)\n",
    "\n",
    "top_vocab = vocab_bef_stem.head(15)\n",
    "top_vocab.plot(kind = 'barh', figsize=(6,8), xlim= (5707, 5725), color=['orange'])\n",
    "plt.title('ТОП слів у фейкових новинах')"
   ],
   "metadata": {
    "collapsed": false,
    "pycharm": {
     "name": "#%%\n"
    }
   }
  },
  {
   "cell_type": "markdown",
   "metadata": {},
   "source": [
    "### Test NN"
   ]
  },
  {
   "cell_type": "code",
   "execution_count": 3598,
   "metadata": {},
   "outputs": [],
   "source": [
    "with tf.compat.v1.Session() as session:\n",
    "    session.run([tf.compat.v1.global_variables_initializer(), tf.compat.v1.tables_initializer()])\n",
    "    test_embeddings = session.run(embed(data_test.Text.to_list()))"
   ]
  },
  {
   "cell_type": "code",
   "execution_count": 3599,
   "metadata": {},
   "outputs": [],
   "source": [
    "predictions = model.predict(test_embeddings, batch_size=512, verbose=1)"
   ]
  },
  {
   "cell_type": "markdown",
   "source": [
    "### Saving Model"
   ],
   "metadata": {
    "collapsed": false,
    "pycharm": {
     "name": "#%% md\n"
    }
   }
  },
  {
   "cell_type": "code",
   "execution_count": 3600,
   "outputs": [
    {
     "name": "stdout",
     "output_type": "stream",
     "text": [
      "INFO:tensorflow:Assets written to: .../saved_model/my_model/assets\n"
     ]
    },
    {
     "name": "stderr",
     "output_type": "stream",
     "text": [
      "INFO:tensorflow:Assets written to: .../saved_model/my_model/assets\n"
     ]
    }
   ],
   "source": [
    "model.save('.../saved_model/my_model')"
   ],
   "metadata": {
    "collapsed": false,
    "pycharm": {
     "name": "#%%\n"
    }
   }
  },
  {
   "cell_type": "code",
   "execution_count": 3601,
   "metadata": {},
   "outputs": [],
   "source": [
    "labels = ['REAL', 'FAKE']"
   ]
  },
  {
   "cell_type": "code",
   "execution_count": 3602,
   "metadata": {},
   "outputs": [],
   "source": [
    "prediction_labels=[]\n",
    "for p in predictions:\n",
    "    prediction_labels.append(labels[np.argmax(p)])"
   ]
  },
  {
   "cell_type": "code",
   "execution_count": 3603,
   "outputs": [
    {
     "data": {
      "text/plain": "Text(33,0.5,'Правильна мітка')"
     },
     "execution_count": 3603,
     "metadata": {},
     "output_type": "execute_result"
    },
    {
     "data": {
      "text/plain": "<Figure size 432x288 with 2 Axes>",
      "image/png": "[encoded data removed]"
     },
     "metadata": {
      "needs_background": "light"
     },
     "output_type": "display_data"
    }
   ],
   "source": [
    "def parse_str(str_tensor):\n",
    "    raw_string = str_tensor.numpy().decode(\"utf-8\")\n",
    "    return raw_string\n",
    "\n",
    "dataPredictions = tf.argmax(predictions, axis=-1)\n",
    "\n",
    "testLabel = data_test.Label.map(dict(REAL=1, FAKE=0))\n",
    "\n",
    "def predicttoint(list):\n",
    "    for i in range (len(list)):\n",
    "        if list[i]== 'FAKE':\n",
    "            list[i] = 0\n",
    "        else:\n",
    "            list[i] = 1\n",
    "    return list\n",
    "\n",
    "testlabels = testLabel.tolist()\n",
    "testlabels = np.asarray(testlabels)\n",
    "\n",
    "predictlabels = predicttoint(prediction_labels)\n",
    "predictlabels = np.asarray(predictlabels)\n",
    "\n",
    "#print(\"Кількість передбачених міток: \", len(prediction_labels))\n",
    "\n",
    "#print(np.asarray(testlabels))\n",
    "#print(np.asarray(predictlabels))\n",
    "\n",
    "labels3 = tf.constant(testlabels,dtype = tf.int32)\n",
    "predictions = tf.constant(predictlabels,dtype = tf.int32)\n",
    "\n",
    "cm = tf.math.confusion_matrix(labels3, predictlabels, num_classes=2)\n",
    "with tf.compat.v1.Session() as session:\n",
    "     cm = cm.eval()/cm.eval().sum(axis=1)[:, tf.newaxis]\n",
    "\n",
    "sns.heatmap(\n",
    "cm, annot=True,\n",
    "xticklabels=labels,\n",
    "yticklabels=labels)\n",
    "plt.xlabel(\"Передбачення\")\n",
    "plt.ylabel(\"Правильна мітка\")"
   ],
   "metadata": {
    "collapsed": false,
    "pycharm": {
     "name": "#%%\n"
    }
   }
  },
  {
   "cell_type": "code",
   "execution_count": 3604,
   "outputs": [
    {
     "name": "stdout",
     "output_type": "stream",
     "text": [
      "Accuracy:  0.72\n",
      "F1-score:  [0.74074074 0.69565217]\n",
      "Recall-score:  [1.         0.53333333]\n",
      "Precision-score:  [0.58823529 1.        ]\n",
      "Confusion matrix: \n",
      " [[10  0]\n",
      " [ 7  8]]\n"
     ]
    }
   ],
   "source": [
    "print(\"Accuracy: \", accuracy_score(testlabels, predictlabels))\n",
    "print(\"F1-score: \", f1_score(testlabels, predictlabels, average=None))\n",
    "print(\"Recall-score: \", recall_score(testlabels, predictlabels, average=None))\n",
    "print(\"Precision-score: \", precision_score(testlabels, predictlabels, average=None))\n",
    "print(\"Confusion matrix: \\n\", confusion_matrix(testlabels, predictlabels, labels=[0, 1]))\n",
    "#print(\"Accuracy:\", sum(data_test.Label==prediction_labels)/len(prediction_labels))"
   ],
   "metadata": {
    "collapsed": false,
    "pycharm": {
     "name": "#%%\n"
    }
   }
  }
 ],
 "metadata": {
  "kernelspec": {
   "display_name": "Python 3",
   "language": "python",
   "name": "python3"
  },
  "language_info": {
   "codemirror_mode": {
    "name": "ipython",
    "version": 3
   },
   "file_extension": ".py",
   "mimetype": "text/x-python",
   "name": "python",
   "nbconvert_exporter": "python",
   "pygments_lexer": "ipython3",
   "version": "3.6.5"
  }
 },
 "nbformat": 4,
 "nbformat_minor": 2
}